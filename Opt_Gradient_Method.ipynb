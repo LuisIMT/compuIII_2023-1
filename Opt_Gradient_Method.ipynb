{
  "nbformat": 4,
  "nbformat_minor": 0,
  "metadata": {
    "colab": {
      "provenance": [],
      "authorship_tag": "ABX9TyMtT/G0I2cj2+RlTYBaDvZY",
      "include_colab_link": true
    },
    "kernelspec": {
      "name": "python3",
      "display_name": "Python 3"
    },
    "language_info": {
      "name": "python"
    }
  },
  "cells": [
    {
      "cell_type": "markdown",
      "metadata": {
        "id": "view-in-github",
        "colab_type": "text"
      },
      "source": [
        "<a href=\"https://colab.research.google.com/github/LuisIMT/compuIII_2023-1/blob/main/Opt_Gradient_Method.ipynb\" target=\"_parent\"><img src=\"https://colab.research.google.com/assets/colab-badge.svg\" alt=\"Open In Colab\"/></a>"
      ]
    },
    {
      "cell_type": "code",
      "execution_count": 3,
      "metadata": {
        "colab": {
          "base_uri": "https://localhost:8080/",
          "height": 1000
        },
        "id": "49CkCX2RaeMm",
        "outputId": "357e36b2-26e9-4c4c-be95-2c5d2ad1d6eb"
      },
      "outputs": [
        {
          "output_type": "display_data",
          "data": {
            "text/plain": [
              "   2                    2\n",
              "- x  + 2⋅x⋅y + 2⋅x - 2⋅y "
            ],
            "text/latex": "$\\displaystyle - x^{2} + 2 x y + 2 x - 2 y^{2}$"
          },
          "metadata": {}
        },
        {
          "output_type": "display_data",
          "data": {
            "text/plain": [
              "[-1, 1]"
            ],
            "text/latex": "$\\displaystyle \\left[ -1, \\  1\\right]$"
          },
          "metadata": {}
        },
        {
          "output_type": "display_data",
          "data": {
            "text/plain": [
              "   2                    2\n",
              "- x  + 2⋅x⋅y + 2⋅x - 2⋅y "
            ],
            "text/latex": "$\\displaystyle - x^{2} + 2 x y + 2 x - 2 y^{2}$"
          },
          "metadata": {}
        },
        {
          "output_type": "stream",
          "name": "stdout",
          "text": [
            "la funcion tiene un maximo local\n"
          ]
        },
        {
          "output_type": "display_data",
          "data": {
            "text/plain": [
              "'la funcion es'"
            ],
            "application/vnd.google.colaboratory.intrinsic+json": {
              "type": "string"
            }
          },
          "metadata": {}
        },
        {
          "output_type": "display_data",
          "data": {
            "text/plain": [
              "       2           \n",
              "- 180⋅h  + 72⋅h - 7"
            ],
            "text/latex": "$\\displaystyle - 180 h^{2} + 72 h - 7$"
          },
          "metadata": {}
        },
        {
          "output_type": "display_data",
          "data": {
            "text/plain": [
              "'primera derivada'"
            ],
            "application/vnd.google.colaboratory.intrinsic+json": {
              "type": "string"
            }
          },
          "metadata": {}
        },
        {
          "output_type": "display_data",
          "data": {
            "text/plain": [
              "72 - 360⋅h"
            ],
            "text/latex": "$\\displaystyle 72 - 360 h$"
          },
          "metadata": {}
        },
        {
          "output_type": "display_data",
          "data": {
            "text/plain": [
              "'segunda derivada'"
            ],
            "application/vnd.google.colaboratory.intrinsic+json": {
              "type": "string"
            }
          },
          "metadata": {}
        },
        {
          "output_type": "display_data",
          "data": {
            "text/plain": [
              "-360"
            ],
            "text/latex": "$\\displaystyle -360$"
          },
          "metadata": {}
        },
        {
          "output_type": "stream",
          "name": "stdout",
          "text": [
            "la nueva h: 1/5\n",
            "nuevo punto [1/5 -1/5]\n",
            "la funcion tiene un maximo local\n"
          ]
        },
        {
          "output_type": "display_data",
          "data": {
            "text/plain": [
              "'la funcion es'"
            ],
            "application/vnd.google.colaboratory.intrinsic+json": {
              "type": "string"
            }
          },
          "metadata": {}
        },
        {
          "output_type": "display_data",
          "data": {
            "text/plain": [
              "      2           \n",
              "  36⋅h    72⋅h   1\n",
              "- ───── + ──── + ─\n",
              "    25     25    5"
            ],
            "text/latex": "$\\displaystyle - \\frac{36 h^{2}}{25} + \\frac{72 h}{25} + \\frac{1}{5}$"
          },
          "metadata": {}
        },
        {
          "output_type": "display_data",
          "data": {
            "text/plain": [
              "'primera derivada'"
            ],
            "application/vnd.google.colaboratory.intrinsic+json": {
              "type": "string"
            }
          },
          "metadata": {}
        },
        {
          "output_type": "display_data",
          "data": {
            "text/plain": [
              "72   72⋅h\n",
              "── - ────\n",
              "25    25 "
            ],
            "text/latex": "$\\displaystyle \\frac{72}{25} - \\frac{72 h}{25}$"
          },
          "metadata": {}
        },
        {
          "output_type": "display_data",
          "data": {
            "text/plain": [
              "'segunda derivada'"
            ],
            "application/vnd.google.colaboratory.intrinsic+json": {
              "type": "string"
            }
          },
          "metadata": {}
        },
        {
          "output_type": "display_data",
          "data": {
            "text/plain": [
              "-72 \n",
              "────\n",
              " 25 "
            ],
            "text/latex": "$\\displaystyle - \\frac{72}{25}$"
          },
          "metadata": {}
        },
        {
          "output_type": "stream",
          "name": "stdout",
          "text": [
            "la nueva h: 1\n",
            "nuevo punto [7/5 1]\n",
            "la funcion tiene un maximo local\n"
          ]
        },
        {
          "output_type": "display_data",
          "data": {
            "text/plain": [
              "'la funcion es'"
            ],
            "application/vnd.google.colaboratory.intrinsic+json": {
              "type": "string"
            }
          },
          "metadata": {}
        },
        {
          "output_type": "display_data",
          "data": {
            "text/plain": [
              "      2            \n",
              "  36⋅h    72⋅h   41\n",
              "- ───── + ──── + ──\n",
              "    5      25    25"
            ],
            "text/latex": "$\\displaystyle - \\frac{36 h^{2}}{5} + \\frac{72 h}{25} + \\frac{41}{25}$"
          },
          "metadata": {}
        },
        {
          "output_type": "display_data",
          "data": {
            "text/plain": [
              "'primera derivada'"
            ],
            "application/vnd.google.colaboratory.intrinsic+json": {
              "type": "string"
            }
          },
          "metadata": {}
        },
        {
          "output_type": "display_data",
          "data": {
            "text/plain": [
              "72   72⋅h\n",
              "── - ────\n",
              "25    5  "
            ],
            "text/latex": "$\\displaystyle \\frac{72}{25} - \\frac{72 h}{5}$"
          },
          "metadata": {}
        },
        {
          "output_type": "display_data",
          "data": {
            "text/plain": [
              "'segunda derivada'"
            ],
            "application/vnd.google.colaboratory.intrinsic+json": {
              "type": "string"
            }
          },
          "metadata": {}
        },
        {
          "output_type": "display_data",
          "data": {
            "text/plain": [
              "-72/5"
            ],
            "text/latex": "$\\displaystyle - \\frac{72}{5}$"
          },
          "metadata": {}
        },
        {
          "output_type": "stream",
          "name": "stdout",
          "text": [
            "la nueva h: 1/5\n",
            "nuevo punto [41/25 19/25]\n",
            "la funcion tiene un maximo local\n"
          ]
        },
        {
          "output_type": "display_data",
          "data": {
            "text/plain": [
              "'la funcion es'"
            ],
            "application/vnd.google.colaboratory.intrinsic+json": {
              "type": "string"
            }
          },
          "metadata": {}
        },
        {
          "output_type": "display_data",
          "data": {
            "text/plain": [
              "      2             \n",
              "  36⋅h    72⋅h   241\n",
              "- ───── + ──── + ───\n",
              "   625    625    125"
            ],
            "text/latex": "$\\displaystyle - \\frac{36 h^{2}}{625} + \\frac{72 h}{625} + \\frac{241}{125}$"
          },
          "metadata": {}
        },
        {
          "output_type": "display_data",
          "data": {
            "text/plain": [
              "'primera derivada'"
            ],
            "application/vnd.google.colaboratory.intrinsic+json": {
              "type": "string"
            }
          },
          "metadata": {}
        },
        {
          "output_type": "display_data",
          "data": {
            "text/plain": [
              " 72   72⋅h\n",
              "─── - ────\n",
              "625   625 "
            ],
            "text/latex": "$\\displaystyle \\frac{72}{625} - \\frac{72 h}{625}$"
          },
          "metadata": {}
        },
        {
          "output_type": "display_data",
          "data": {
            "text/plain": [
              "'segunda derivada'"
            ],
            "application/vnd.google.colaboratory.intrinsic+json": {
              "type": "string"
            }
          },
          "metadata": {}
        },
        {
          "output_type": "display_data",
          "data": {
            "text/plain": [
              "-72 \n",
              "────\n",
              "625 "
            ],
            "text/latex": "$\\displaystyle - \\frac{72}{625}$"
          },
          "metadata": {}
        },
        {
          "output_type": "stream",
          "name": "stdout",
          "text": [
            "la nueva h: 1\n",
            "nuevo punto [47/25 1]\n",
            "la funcion tiene un maximo local\n"
          ]
        },
        {
          "output_type": "display_data",
          "data": {
            "text/plain": [
              "'la funcion es'"
            ],
            "application/vnd.google.colaboratory.intrinsic+json": {
              "type": "string"
            }
          },
          "metadata": {}
        },
        {
          "output_type": "display_data",
          "data": {
            "text/plain": [
              "      2              \n",
              "  36⋅h    72⋅h   1241\n",
              "- ───── + ──── + ────\n",
              "   125    625    625 "
            ],
            "text/latex": "$\\displaystyle - \\frac{36 h^{2}}{125} + \\frac{72 h}{625} + \\frac{1241}{625}$"
          },
          "metadata": {}
        },
        {
          "output_type": "display_data",
          "data": {
            "text/plain": [
              "'primera derivada'"
            ],
            "application/vnd.google.colaboratory.intrinsic+json": {
              "type": "string"
            }
          },
          "metadata": {}
        },
        {
          "output_type": "display_data",
          "data": {
            "text/plain": [
              " 72   72⋅h\n",
              "─── - ────\n",
              "625   125 "
            ],
            "text/latex": "$\\displaystyle \\frac{72}{625} - \\frac{72 h}{125}$"
          },
          "metadata": {}
        },
        {
          "output_type": "display_data",
          "data": {
            "text/plain": [
              "'segunda derivada'"
            ],
            "application/vnd.google.colaboratory.intrinsic+json": {
              "type": "string"
            }
          },
          "metadata": {}
        },
        {
          "output_type": "display_data",
          "data": {
            "text/plain": [
              "-72 \n",
              "────\n",
              "125 "
            ],
            "text/latex": "$\\displaystyle - \\frac{72}{125}$"
          },
          "metadata": {}
        },
        {
          "output_type": "stream",
          "name": "stdout",
          "text": [
            "la nueva h: 1/5\n",
            "nuevo punto [241/125 119/125]\n",
            "la funcion tiene un maximo local\n"
          ]
        },
        {
          "output_type": "display_data",
          "data": {
            "text/plain": [
              "'la funcion es'"
            ],
            "application/vnd.google.colaboratory.intrinsic+json": {
              "type": "string"
            }
          },
          "metadata": {}
        },
        {
          "output_type": "display_data",
          "data": {
            "text/plain": [
              "      2               \n",
              "  36⋅h     72⋅h   6241\n",
              "- ───── + ───── + ────\n",
              "  15625   15625   3125"
            ],
            "text/latex": "$\\displaystyle - \\frac{36 h^{2}}{15625} + \\frac{72 h}{15625} + \\frac{6241}{3125}$"
          },
          "metadata": {}
        },
        {
          "output_type": "display_data",
          "data": {
            "text/plain": [
              "'primera derivada'"
            ],
            "application/vnd.google.colaboratory.intrinsic+json": {
              "type": "string"
            }
          },
          "metadata": {}
        },
        {
          "output_type": "display_data",
          "data": {
            "text/plain": [
              "  72     72⋅h\n",
              "───── - ─────\n",
              "15625   15625"
            ],
            "text/latex": "$\\displaystyle \\frac{72}{15625} - \\frac{72 h}{15625}$"
          },
          "metadata": {}
        },
        {
          "output_type": "display_data",
          "data": {
            "text/plain": [
              "'segunda derivada'"
            ],
            "application/vnd.google.colaboratory.intrinsic+json": {
              "type": "string"
            }
          },
          "metadata": {}
        },
        {
          "output_type": "display_data",
          "data": {
            "text/plain": [
              " -72 \n",
              "─────\n",
              "15625"
            ],
            "text/latex": "$\\displaystyle - \\frac{72}{15625}$"
          },
          "metadata": {}
        },
        {
          "output_type": "stream",
          "name": "stdout",
          "text": [
            "la nueva h: 1\n",
            "nuevo punto [247/125 1]\n",
            "la funcion tiene un maximo local\n"
          ]
        },
        {
          "output_type": "display_data",
          "data": {
            "text/plain": [
              "'la funcion es'"
            ],
            "application/vnd.google.colaboratory.intrinsic+json": {
              "type": "string"
            }
          },
          "metadata": {}
        },
        {
          "output_type": "display_data",
          "data": {
            "text/plain": [
              "      2                \n",
              "  36⋅h     72⋅h   31241\n",
              "- ───── + ───── + ─────\n",
              "   3125   15625   15625"
            ],
            "text/latex": "$\\displaystyle - \\frac{36 h^{2}}{3125} + \\frac{72 h}{15625} + \\frac{31241}{15625}$"
          },
          "metadata": {}
        },
        {
          "output_type": "display_data",
          "data": {
            "text/plain": [
              "'primera derivada'"
            ],
            "application/vnd.google.colaboratory.intrinsic+json": {
              "type": "string"
            }
          },
          "metadata": {}
        },
        {
          "output_type": "display_data",
          "data": {
            "text/plain": [
              "  72    72⋅h\n",
              "───── - ────\n",
              "15625   3125"
            ],
            "text/latex": "$\\displaystyle \\frac{72}{15625} - \\frac{72 h}{3125}$"
          },
          "metadata": {}
        },
        {
          "output_type": "display_data",
          "data": {
            "text/plain": [
              "'segunda derivada'"
            ],
            "application/vnd.google.colaboratory.intrinsic+json": {
              "type": "string"
            }
          },
          "metadata": {}
        },
        {
          "output_type": "display_data",
          "data": {
            "text/plain": [
              "-72 \n",
              "────\n",
              "3125"
            ],
            "text/latex": "$\\displaystyle - \\frac{72}{3125}$"
          },
          "metadata": {}
        },
        {
          "output_type": "stream",
          "name": "stdout",
          "text": [
            "la nueva h: 1/5\n",
            "nuevo punto [1241/625 619/625]\n",
            "la funcion tiene un maximo local\n"
          ]
        },
        {
          "output_type": "display_data",
          "data": {
            "text/plain": [
              "'la funcion es'"
            ],
            "application/vnd.google.colaboratory.intrinsic+json": {
              "type": "string"
            }
          },
          "metadata": {}
        },
        {
          "output_type": "display_data",
          "data": {
            "text/plain": [
              "      2                   \n",
              "  36⋅h      72⋅h    156241\n",
              "- ────── + ────── + ──────\n",
              "  390625   390625   78125 "
            ],
            "text/latex": "$\\displaystyle - \\frac{36 h^{2}}{390625} + \\frac{72 h}{390625} + \\frac{156241}{78125}$"
          },
          "metadata": {}
        },
        {
          "output_type": "display_data",
          "data": {
            "text/plain": [
              "'primera derivada'"
            ],
            "application/vnd.google.colaboratory.intrinsic+json": {
              "type": "string"
            }
          },
          "metadata": {}
        },
        {
          "output_type": "display_data",
          "data": {
            "text/plain": [
              "  72      72⋅h \n",
              "────── - ──────\n",
              "390625   390625"
            ],
            "text/latex": "$\\displaystyle \\frac{72}{390625} - \\frac{72 h}{390625}$"
          },
          "metadata": {}
        },
        {
          "output_type": "display_data",
          "data": {
            "text/plain": [
              "'segunda derivada'"
            ],
            "application/vnd.google.colaboratory.intrinsic+json": {
              "type": "string"
            }
          },
          "metadata": {}
        },
        {
          "output_type": "display_data",
          "data": {
            "text/plain": [
              " -72  \n",
              "──────\n",
              "390625"
            ],
            "text/latex": "$\\displaystyle - \\frac{72}{390625}$"
          },
          "metadata": {}
        },
        {
          "output_type": "stream",
          "name": "stdout",
          "text": [
            "la nueva h: 1\n",
            "nuevo punto [1247/625 1]\n",
            "la funcion tiene un maximo local\n"
          ]
        },
        {
          "output_type": "display_data",
          "data": {
            "text/plain": [
              "'la funcion es'"
            ],
            "application/vnd.google.colaboratory.intrinsic+json": {
              "type": "string"
            }
          },
          "metadata": {}
        },
        {
          "output_type": "display_data",
          "data": {
            "text/plain": [
              "      2                  \n",
              "  36⋅h     72⋅h    781241\n",
              "- ───── + ────── + ──────\n",
              "  78125   390625   390625"
            ],
            "text/latex": "$\\displaystyle - \\frac{36 h^{2}}{78125} + \\frac{72 h}{390625} + \\frac{781241}{390625}$"
          },
          "metadata": {}
        },
        {
          "output_type": "display_data",
          "data": {
            "text/plain": [
              "'primera derivada'"
            ],
            "application/vnd.google.colaboratory.intrinsic+json": {
              "type": "string"
            }
          },
          "metadata": {}
        },
        {
          "output_type": "display_data",
          "data": {
            "text/plain": [
              "  72      72⋅h\n",
              "────── - ─────\n",
              "390625   78125"
            ],
            "text/latex": "$\\displaystyle \\frac{72}{390625} - \\frac{72 h}{78125}$"
          },
          "metadata": {}
        },
        {
          "output_type": "display_data",
          "data": {
            "text/plain": [
              "'segunda derivada'"
            ],
            "application/vnd.google.colaboratory.intrinsic+json": {
              "type": "string"
            }
          },
          "metadata": {}
        },
        {
          "output_type": "display_data",
          "data": {
            "text/plain": [
              " -72 \n",
              "─────\n",
              "78125"
            ],
            "text/latex": "$\\displaystyle - \\frac{72}{78125}$"
          },
          "metadata": {}
        },
        {
          "output_type": "stream",
          "name": "stdout",
          "text": [
            "la nueva h: 1/5\n",
            "nuevo punto [6241/3125 3119/3125]\n",
            "la funcion tiene un maximo local\n"
          ]
        },
        {
          "output_type": "display_data",
          "data": {
            "text/plain": [
              "'la funcion es'"
            ],
            "application/vnd.google.colaboratory.intrinsic+json": {
              "type": "string"
            }
          },
          "metadata": {}
        },
        {
          "output_type": "display_data",
          "data": {
            "text/plain": [
              "       2                     \n",
              "   36⋅h       72⋅h    3906241\n",
              "- ─────── + ─────── + ───────\n",
              "  9765625   9765625   1953125"
            ],
            "text/latex": "$\\displaystyle - \\frac{36 h^{2}}{9765625} + \\frac{72 h}{9765625} + \\frac{3906241}{1953125}$"
          },
          "metadata": {}
        },
        {
          "output_type": "display_data",
          "data": {
            "text/plain": [
              "'primera derivada'"
            ],
            "application/vnd.google.colaboratory.intrinsic+json": {
              "type": "string"
            }
          },
          "metadata": {}
        },
        {
          "output_type": "display_data",
          "data": {
            "text/plain": [
              "   72       72⋅h \n",
              "─────── - ───────\n",
              "9765625   9765625"
            ],
            "text/latex": "$\\displaystyle \\frac{72}{9765625} - \\frac{72 h}{9765625}$"
          },
          "metadata": {}
        },
        {
          "output_type": "display_data",
          "data": {
            "text/plain": [
              "'segunda derivada'"
            ],
            "application/vnd.google.colaboratory.intrinsic+json": {
              "type": "string"
            }
          },
          "metadata": {}
        },
        {
          "output_type": "display_data",
          "data": {
            "text/plain": [
              "  -72  \n",
              "───────\n",
              "9765625"
            ],
            "text/latex": "$\\displaystyle - \\frac{72}{9765625}$"
          },
          "metadata": {}
        },
        {
          "output_type": "stream",
          "name": "stdout",
          "text": [
            "la nueva h: 1\n",
            "nuevo punto [6247/3125 1]\n",
            "la funcion tiene un maximo local\n"
          ]
        },
        {
          "output_type": "display_data",
          "data": {
            "text/plain": [
              "'la funcion es'"
            ],
            "application/vnd.google.colaboratory.intrinsic+json": {
              "type": "string"
            }
          },
          "metadata": {}
        },
        {
          "output_type": "display_data",
          "data": {
            "text/plain": [
              "       2                      \n",
              "   36⋅h       72⋅h    19531241\n",
              "- ─────── + ─────── + ────────\n",
              "  1953125   9765625   9765625 "
            ],
            "text/latex": "$\\displaystyle - \\frac{36 h^{2}}{1953125} + \\frac{72 h}{9765625} + \\frac{19531241}{9765625}$"
          },
          "metadata": {}
        },
        {
          "output_type": "display_data",
          "data": {
            "text/plain": [
              "'primera derivada'"
            ],
            "application/vnd.google.colaboratory.intrinsic+json": {
              "type": "string"
            }
          },
          "metadata": {}
        },
        {
          "output_type": "display_data",
          "data": {
            "text/plain": [
              "   72       72⋅h \n",
              "─────── - ───────\n",
              "9765625   1953125"
            ],
            "text/latex": "$\\displaystyle \\frac{72}{9765625} - \\frac{72 h}{1953125}$"
          },
          "metadata": {}
        },
        {
          "output_type": "display_data",
          "data": {
            "text/plain": [
              "'segunda derivada'"
            ],
            "application/vnd.google.colaboratory.intrinsic+json": {
              "type": "string"
            }
          },
          "metadata": {}
        },
        {
          "output_type": "display_data",
          "data": {
            "text/plain": [
              "  -72  \n",
              "───────\n",
              "1953125"
            ],
            "text/latex": "$\\displaystyle - \\frac{72}{1953125}$"
          },
          "metadata": {}
        },
        {
          "output_type": "stream",
          "name": "stdout",
          "text": [
            "la nueva h: 1/5\n",
            "nuevo punto [31241/15625 15619/15625]\n",
            "la funcion tiene un maximo local\n"
          ]
        },
        {
          "output_type": "display_data",
          "data": {
            "text/plain": [
              "'la funcion es'"
            ],
            "application/vnd.google.colaboratory.intrinsic+json": {
              "type": "string"
            }
          },
          "metadata": {}
        },
        {
          "output_type": "display_data",
          "data": {
            "text/plain": [
              "        2                         \n",
              "    36⋅h         72⋅h     97656241\n",
              "- ───────── + ───────── + ────────\n",
              "  244140625   244140625   48828125"
            ],
            "text/latex": "$\\displaystyle - \\frac{36 h^{2}}{244140625} + \\frac{72 h}{244140625} + \\frac{97656241}{48828125}$"
          },
          "metadata": {}
        },
        {
          "output_type": "display_data",
          "data": {
            "text/plain": [
              "'primera derivada'"
            ],
            "application/vnd.google.colaboratory.intrinsic+json": {
              "type": "string"
            }
          },
          "metadata": {}
        },
        {
          "output_type": "display_data",
          "data": {
            "text/plain": [
              "    72         72⋅h  \n",
              "───────── - ─────────\n",
              "244140625   244140625"
            ],
            "text/latex": "$\\displaystyle \\frac{72}{244140625} - \\frac{72 h}{244140625}$"
          },
          "metadata": {}
        },
        {
          "output_type": "display_data",
          "data": {
            "text/plain": [
              "'segunda derivada'"
            ],
            "application/vnd.google.colaboratory.intrinsic+json": {
              "type": "string"
            }
          },
          "metadata": {}
        },
        {
          "output_type": "display_data",
          "data": {
            "text/plain": [
              "   -72   \n",
              "─────────\n",
              "244140625"
            ],
            "text/latex": "$\\displaystyle - \\frac{72}{244140625}$"
          },
          "metadata": {}
        },
        {
          "output_type": "stream",
          "name": "stdout",
          "text": [
            "la nueva h: 1\n",
            "nuevo punto [31247/15625 1]\n",
            "la funcion tiene un maximo local\n"
          ]
        },
        {
          "output_type": "display_data",
          "data": {
            "text/plain": [
              "'la funcion es'"
            ],
            "application/vnd.google.colaboratory.intrinsic+json": {
              "type": "string"
            }
          },
          "metadata": {}
        },
        {
          "output_type": "display_data",
          "data": {
            "text/plain": [
              "       2                          \n",
              "   36⋅h         72⋅h     488281241\n",
              "- ──────── + ───────── + ─────────\n",
              "  48828125   244140625   244140625"
            ],
            "text/latex": "$\\displaystyle - \\frac{36 h^{2}}{48828125} + \\frac{72 h}{244140625} + \\frac{488281241}{244140625}$"
          },
          "metadata": {}
        },
        {
          "output_type": "display_data",
          "data": {
            "text/plain": [
              "'primera derivada'"
            ],
            "application/vnd.google.colaboratory.intrinsic+json": {
              "type": "string"
            }
          },
          "metadata": {}
        },
        {
          "output_type": "display_data",
          "data": {
            "text/plain": [
              "    72        72⋅h  \n",
              "───────── - ────────\n",
              "244140625   48828125"
            ],
            "text/latex": "$\\displaystyle \\frac{72}{244140625} - \\frac{72 h}{48828125}$"
          },
          "metadata": {}
        },
        {
          "output_type": "display_data",
          "data": {
            "text/plain": [
              "'segunda derivada'"
            ],
            "application/vnd.google.colaboratory.intrinsic+json": {
              "type": "string"
            }
          },
          "metadata": {}
        },
        {
          "output_type": "display_data",
          "data": {
            "text/plain": [
              "  -72   \n",
              "────────\n",
              "48828125"
            ],
            "text/latex": "$\\displaystyle - \\frac{72}{48828125}$"
          },
          "metadata": {}
        },
        {
          "output_type": "stream",
          "name": "stdout",
          "text": [
            "la nueva h: 1/5\n",
            "nuevo punto [156241/78125 78119/78125]\n",
            "la funcion tiene un maximo local\n"
          ]
        },
        {
          "output_type": "display_data",
          "data": {
            "text/plain": [
              "'la funcion es'"
            ],
            "application/vnd.google.colaboratory.intrinsic+json": {
              "type": "string"
            }
          },
          "metadata": {}
        },
        {
          "output_type": "display_data",
          "data": {
            "text/plain": [
              "        2                             \n",
              "    36⋅h          72⋅h      2441406241\n",
              "- ────────── + ────────── + ──────────\n",
              "  6103515625   6103515625   1220703125"
            ],
            "text/latex": "$\\displaystyle - \\frac{36 h^{2}}{6103515625} + \\frac{72 h}{6103515625} + \\frac{2441406241}{1220703125}$"
          },
          "metadata": {}
        },
        {
          "output_type": "display_data",
          "data": {
            "text/plain": [
              "'primera derivada'"
            ],
            "application/vnd.google.colaboratory.intrinsic+json": {
              "type": "string"
            }
          },
          "metadata": {}
        },
        {
          "output_type": "display_data",
          "data": {
            "text/plain": [
              "    72          72⋅h   \n",
              "────────── - ──────────\n",
              "6103515625   6103515625"
            ],
            "text/latex": "$\\displaystyle \\frac{72}{6103515625} - \\frac{72 h}{6103515625}$"
          },
          "metadata": {}
        },
        {
          "output_type": "display_data",
          "data": {
            "text/plain": [
              "'segunda derivada'"
            ],
            "application/vnd.google.colaboratory.intrinsic+json": {
              "type": "string"
            }
          },
          "metadata": {}
        },
        {
          "output_type": "display_data",
          "data": {
            "text/plain": [
              "   -72    \n",
              "──────────\n",
              "6103515625"
            ],
            "text/latex": "$\\displaystyle - \\frac{72}{6103515625}$"
          },
          "metadata": {}
        },
        {
          "output_type": "stream",
          "name": "stdout",
          "text": [
            "la nueva h: 1\n",
            "nuevo punto [156247/78125 1]\n",
            "la funcion tiene un maximo local\n"
          ]
        },
        {
          "output_type": "display_data",
          "data": {
            "text/plain": [
              "'la funcion es'"
            ],
            "application/vnd.google.colaboratory.intrinsic+json": {
              "type": "string"
            }
          },
          "metadata": {}
        },
        {
          "output_type": "display_data",
          "data": {
            "text/plain": [
              "        2                              \n",
              "    36⋅h          72⋅h      12207031241\n",
              "- ────────── + ────────── + ───────────\n",
              "  1220703125   6103515625    6103515625"
            ],
            "text/latex": "$\\displaystyle - \\frac{36 h^{2}}{1220703125} + \\frac{72 h}{6103515625} + \\frac{12207031241}{6103515625}$"
          },
          "metadata": {}
        },
        {
          "output_type": "display_data",
          "data": {
            "text/plain": [
              "'primera derivada'"
            ],
            "application/vnd.google.colaboratory.intrinsic+json": {
              "type": "string"
            }
          },
          "metadata": {}
        },
        {
          "output_type": "display_data",
          "data": {
            "text/plain": [
              "    72          72⋅h   \n",
              "────────── - ──────────\n",
              "6103515625   1220703125"
            ],
            "text/latex": "$\\displaystyle \\frac{72}{6103515625} - \\frac{72 h}{1220703125}$"
          },
          "metadata": {}
        },
        {
          "output_type": "display_data",
          "data": {
            "text/plain": [
              "'segunda derivada'"
            ],
            "application/vnd.google.colaboratory.intrinsic+json": {
              "type": "string"
            }
          },
          "metadata": {}
        },
        {
          "output_type": "display_data",
          "data": {
            "text/plain": [
              "   -72    \n",
              "──────────\n",
              "1220703125"
            ],
            "text/latex": "$\\displaystyle - \\frac{72}{1220703125}$"
          },
          "metadata": {}
        },
        {
          "output_type": "stream",
          "name": "stdout",
          "text": [
            "la nueva h: 1/5\n",
            "nuevo punto [781241/390625 390619/390625]\n",
            "la funcion tiene un maximo local\n"
          ]
        },
        {
          "output_type": "display_data",
          "data": {
            "text/plain": [
              "'la funcion es'"
            ],
            "application/vnd.google.colaboratory.intrinsic+json": {
              "type": "string"
            }
          },
          "metadata": {}
        },
        {
          "output_type": "display_data",
          "data": {
            "text/plain": [
              "         2                                 \n",
              "     36⋅h            72⋅h       61035156241\n",
              "- ──────────── + ──────────── + ───────────\n",
              "  152587890625   152587890625   30517578125"
            ],
            "text/latex": "$\\displaystyle - \\frac{36 h^{2}}{152587890625} + \\frac{72 h}{152587890625} + \\frac{61035156241}{30517578125}$"
          },
          "metadata": {}
        },
        {
          "output_type": "display_data",
          "data": {
            "text/plain": [
              "'primera derivada'"
            ],
            "application/vnd.google.colaboratory.intrinsic+json": {
              "type": "string"
            }
          },
          "metadata": {}
        },
        {
          "output_type": "display_data",
          "data": {
            "text/plain": [
              "     72            72⋅h    \n",
              "──────────── - ────────────\n",
              "152587890625   152587890625"
            ],
            "text/latex": "$\\displaystyle \\frac{72}{152587890625} - \\frac{72 h}{152587890625}$"
          },
          "metadata": {}
        },
        {
          "output_type": "display_data",
          "data": {
            "text/plain": [
              "'segunda derivada'"
            ],
            "application/vnd.google.colaboratory.intrinsic+json": {
              "type": "string"
            }
          },
          "metadata": {}
        },
        {
          "output_type": "display_data",
          "data": {
            "text/plain": [
              "    -72     \n",
              "────────────\n",
              "152587890625"
            ],
            "text/latex": "$\\displaystyle - \\frac{72}{152587890625}$"
          },
          "metadata": {}
        },
        {
          "output_type": "stream",
          "name": "stdout",
          "text": [
            "la nueva h: 1\n",
            "nuevo punto [781247/390625 1]\n",
            "la funcion tiene un maximo local\n"
          ]
        },
        {
          "output_type": "display_data",
          "data": {
            "text/plain": [
              "'la funcion es'"
            ],
            "application/vnd.google.colaboratory.intrinsic+json": {
              "type": "string"
            }
          },
          "metadata": {}
        },
        {
          "output_type": "display_data",
          "data": {
            "text/plain": [
              "         2                                 \n",
              "     36⋅h           72⋅h       305175781241\n",
              "- ─────────── + ──────────── + ────────────\n",
              "  30517578125   152587890625   152587890625"
            ],
            "text/latex": "$\\displaystyle - \\frac{36 h^{2}}{30517578125} + \\frac{72 h}{152587890625} + \\frac{305175781241}{152587890625}$"
          },
          "metadata": {}
        },
        {
          "output_type": "display_data",
          "data": {
            "text/plain": [
              "'primera derivada'"
            ],
            "application/vnd.google.colaboratory.intrinsic+json": {
              "type": "string"
            }
          },
          "metadata": {}
        },
        {
          "output_type": "display_data",
          "data": {
            "text/plain": [
              "     72            72⋅h   \n",
              "──────────── - ───────────\n",
              "152587890625   30517578125"
            ],
            "text/latex": "$\\displaystyle \\frac{72}{152587890625} - \\frac{72 h}{30517578125}$"
          },
          "metadata": {}
        },
        {
          "output_type": "display_data",
          "data": {
            "text/plain": [
              "'segunda derivada'"
            ],
            "application/vnd.google.colaboratory.intrinsic+json": {
              "type": "string"
            }
          },
          "metadata": {}
        },
        {
          "output_type": "display_data",
          "data": {
            "text/plain": [
              "    -72    \n",
              "───────────\n",
              "30517578125"
            ],
            "text/latex": "$\\displaystyle - \\frac{72}{30517578125}$"
          },
          "metadata": {}
        },
        {
          "output_type": "stream",
          "name": "stdout",
          "text": [
            "la nueva h: 1/5\n",
            "nuevo punto [3906241/1953125 1953119/1953125]\n",
            "la funcion tiene un maximo local\n"
          ]
        },
        {
          "output_type": "display_data",
          "data": {
            "text/plain": [
              "'la funcion es'"
            ],
            "application/vnd.google.colaboratory.intrinsic+json": {
              "type": "string"
            }
          },
          "metadata": {}
        },
        {
          "output_type": "display_data",
          "data": {
            "text/plain": [
              "          2                                    \n",
              "      36⋅h             72⋅h       1525878906241\n",
              "- ───────────── + ───────────── + ─────────────\n",
              "  3814697265625   3814697265625    762939453125"
            ],
            "text/latex": "$\\displaystyle - \\frac{36 h^{2}}{3814697265625} + \\frac{72 h}{3814697265625} + \\frac{1525878906241}{762939453125}$"
          },
          "metadata": {}
        },
        {
          "output_type": "display_data",
          "data": {
            "text/plain": [
              "'primera derivada'"
            ],
            "application/vnd.google.colaboratory.intrinsic+json": {
              "type": "string"
            }
          },
          "metadata": {}
        },
        {
          "output_type": "display_data",
          "data": {
            "text/plain": [
              "      72             72⋅h    \n",
              "───────────── - ─────────────\n",
              "3814697265625   3814697265625"
            ],
            "text/latex": "$\\displaystyle \\frac{72}{3814697265625} - \\frac{72 h}{3814697265625}$"
          },
          "metadata": {}
        },
        {
          "output_type": "display_data",
          "data": {
            "text/plain": [
              "'segunda derivada'"
            ],
            "application/vnd.google.colaboratory.intrinsic+json": {
              "type": "string"
            }
          },
          "metadata": {}
        },
        {
          "output_type": "display_data",
          "data": {
            "text/plain": [
              "     -72     \n",
              "─────────────\n",
              "3814697265625"
            ],
            "text/latex": "$\\displaystyle - \\frac{72}{3814697265625}$"
          },
          "metadata": {}
        },
        {
          "output_type": "stream",
          "name": "stdout",
          "text": [
            "la nueva h: 1\n",
            "nuevo punto [3906247/1953125 1]\n",
            "se returno 1.999998464 1.0\n"
          ]
        }
      ],
      "source": [
        "\n",
        "import numpy as np  \n",
        "from sympy import *\n",
        "from sympy.abc import x,y,h\n",
        "import matplotlib.pyplot as plt\n",
        "init_printing(use_latex = 'mathjax')\n",
        "\n",
        "class Optimization3D:\n",
        "    def __init__(self, f, p):\n",
        "        self.f = f\n",
        "        display(f)\n",
        "        self.p = p\n",
        "        self.tol = 0.00001\n",
        "        self.numMaxIter = 100\n",
        "        \n",
        "    def jacob(self):\n",
        "        derivate = Matrix([0,0])\n",
        "        derivate[0]= diff(self.f,x)\n",
        "        derivate[1]= diff(self.f,y)\n",
        "        #print(str(derivate))\n",
        "        return derivate\n",
        "    \n",
        "    def evalpointin(self, punto):\n",
        "        mj = self.jacob()\n",
        "        evalmj = mj.subs([(x,punto[0]),(y,punto[1])])\n",
        "        return evalmj \n",
        "    \n",
        "    def hessian(self):\n",
        "        mj = self.jacob()\n",
        "        mh = Matrix([[diff(mj[0],x),diff(mj[0],y)],[diff(mj[1],x),diff(mj[1],y)]])\n",
        "        return mh\n",
        "    \n",
        "    def detmh(self):\n",
        "        mh = self.hessian()\n",
        "        dmh = (mh[0,0]*mh[1,1])-(mh[0,1]*mh[1,0])\n",
        "        #print(dmh)\n",
        "        return dmh\n",
        "        \n",
        "        \n",
        "    def gradient(self):\n",
        "        iter = 0\n",
        "        error = np.inf\n",
        "        matrixh = self.hessian()\n",
        "        x0 = self.p\n",
        "        while(iter < self.numMaxIter and error > self.tol):\n",
        "            \n",
        "            matrixj = self.jacob()\n",
        "            sustmj0 = self.evalpointin(x0)\n",
        "            matrixh = self.hessian()\n",
        "            det = self.detmh()\n",
        "            #print(matrixh)\n",
        "            if det > 0 and matrixh[0,0] > 0 :\n",
        "                print('la función tiene un minimo local')\n",
        "            elif det > 0 and matrixh[0,0] < 0:\n",
        "                print('la funcion tiene un maximo local')\n",
        "            elif det < 0:\n",
        "                print('punto silla')\n",
        "            ec = Matrix([(x0[0] + sustmj0[0]*h),(x0[1]+ sustmj0[1]*h)]) \n",
        "            gh = simplify(self.f.subs([(x,ec[0]),(y,ec[1])]))\n",
        "            x1 = Optimization1D(gh).newtonMethod(5)\n",
        "            print('la nueva h:',x1)\n",
        "            #error = self.f.subs([(x,x0[0]),(y,self.x0[1])]) - x1\n",
        "            x0 = np.array([x0[0]+sustmj0[0]*x1,x0[1]+sustmj0[1]*x1]) \n",
        "            #sustmj1 = self.evalpointin(x0) \n",
        "            #print(sustmj1)\n",
        "            #error = np.sqrt((sustmj0[0]**2+sustmj0[1]**2))         \n",
        "            error = sustmj0.norm()\n",
        "            iter += 1\n",
        "            print('nuevo punto',x0)\n",
        "        return x0\n",
        "        \n",
        "\n",
        "class Optimization1D:\n",
        "    def __init__(self,funcion):\n",
        "        self.funcion = funcion\n",
        "        display('la funcion es',funcion)\n",
        "        self.tol = 0.00001\n",
        "        self.maxIter = 10000\n",
        "        \n",
        "    def newtonMethod(self,x0):\n",
        "        point = np.inf\n",
        "        error = np.Inf\n",
        "        \n",
        "        der1 = diff(self.funcion,h)\n",
        "        display('primera derivada' ,der1)\n",
        "        der2 = diff(der1,h)\n",
        "        display('segunda derivada',der2)\n",
        "        iter = 0\n",
        "        \n",
        "        while(error > self.tol and iter < self.maxIter):\n",
        "            if der2 == 0:\n",
        "                exit(0)\n",
        "                \n",
        "            x1 = x0 - der1.subs(h,x0) / der2.subs(h,x0)\n",
        "            error = abs((x1-x0)/x0)\n",
        "            iter += 1\n",
        "            x0 = x1\n",
        "        \n",
        "        \n",
        "        return x0\n",
        "\n",
        "\n",
        "def main():\n",
        "    function = 2*x*y + 2*x - x**2 -2*y**2\n",
        "    point = [-1,1]\n",
        "    display(function)\n",
        "    display(point)\n",
        "    \n",
        "    objGrad = Optimization3D(function,point)\n",
        "\n",
        "\n",
        "    jacobian = objGrad.gradient()\n",
        "    print('se returno',float(jacobian[0]),float(jacobian[1]))\n",
        "\n",
        "\n",
        "\n",
        "    #objGraph.plot2D(f)\n",
        "\n",
        "if __name__ == \"__main__\":\n",
        "    main() "
      ]
    }
  ]
}