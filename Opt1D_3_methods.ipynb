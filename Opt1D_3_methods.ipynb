{
  "nbformat": 4,
  "nbformat_minor": 0,
  "metadata": {
    "colab": {
      "name": "Opt1D_3_methods",
      "provenance": [],
      "collapsed_sections": [],
      "include_colab_link": true
    },
    "kernelspec": {
      "name": "python3",
      "display_name": "Python 3"
    },
    "language_info": {
      "name": "python"
    }
  },
  "cells": [
    {
      "cell_type": "markdown",
      "metadata": {
        "id": "view-in-github",
        "colab_type": "text"
      },
      "source": [
        "<a href=\"https://colab.research.google.com/github/LuisIMT/compuIII_2023-1/blob/main/Opt1D_3_methods.ipynb\" target=\"_parent\"><img src=\"https://colab.research.google.com/assets/colab-badge.svg\" alt=\"Open In Colab\"/></a>"
      ]
    },
    {
      "cell_type": "markdown",
      "source": [
        "#Métodos optimizacion unidimensionales"
      ],
      "metadata": {
        "id": "AZIBPp7N8YXp"
      }
    },
    {
      "cell_type": "code",
      "source": [
        "#importar librerías\n",
        "import numpy as np\n",
        "from sympy import *\n",
        "import math\n",
        "import time\n",
        "from sympy.abc import x,y,z\n",
        "import matplotlib.pyplot as plt\n",
        "init_printing(use_latex='mathjax')\n",
        "\n",
        "\n",
        "class Opt1D:\n",
        "    def __init__(self,f):\n",
        "        self.f = f\n",
        "        self.tol = 0.00001\n",
        "        self.maxIter = 10000\n",
        "\n",
        "    def increSearch(self,start,end):\n",
        "        intervalo = np.linspace(start,end,self.maxIter)\n",
        "        min = np.inf\n",
        "        max = -np.inf\n",
        "        i_max = 0\n",
        "        i_min = 0\n",
        "        for num in intervalo:\n",
        "            result = self.f.subs(x,num)\n",
        "            if result > max:\n",
        "                max = result\n",
        "                i_max = num\n",
        "            if result < min:\n",
        "                min = result\n",
        "                i_min = num\n",
        "        return i_min,i_max\n",
        "\n",
        "    def newtonMethod(self, x0):\n",
        "        point = np.inf\n",
        "        error = np.Inf\n",
        "\n",
        "        der1 = diff(self.f,x)\n",
        "        der2 = diff(der1,x)\n",
        "        iter = 0\n",
        "        \n",
        "        while(error > self.tol and iter < self.maxIter):\n",
        "            if der2 == 0:\n",
        "                exit(0)\n",
        "            x1 = x0 - der1.subs(x,x0) / der2.subs(x,x0)\n",
        "            error = abs((x1-x0)/x0)\n",
        "            iter += 1\n",
        "            x0 = x1\n",
        "        return x0\n",
        "    \n",
        "    def goldenSearch(self,a,b):\n",
        "        iter = 0\n",
        "        error = np.inf\n",
        "        #d = ((np.sqrt(5)-1)/2)*(b-a)\n",
        "        while(error > self.tol and iter < self.maxIter):\n",
        "            d = ((np.sqrt(5)-1)/2)*(b-a)\n",
        "            x1 = a + d\n",
        "            x2 = b - d\n",
        "            if self.f.subs(x,x1) < self.f.subs(x,x2):\n",
        "                x1 = x2\n",
        "            elif self.f.subs(x,1) > self.f.subs(x,x2):\n",
        "                x2 = x1\n",
        "            error = b - a\n",
        "            iter += 1\n",
        "        return a,b\n",
        "        \n",
        "\n",
        "    def graph1D(self,start,end,p):\n",
        "        X = np.linspace(start,end,self.maxIter)\n",
        "        Y = np.zeros_like(X)\n",
        "        for i in range(len(X)):\n",
        "            Y[i] = self.f.subs(x,X[i])\n",
        "        fig, ax1 = plt.subplots()\n",
        "        ax1.set_xlabel('x', color = 'b')\n",
        "        ax1.set_ylabel('y', color = 'b')\n",
        "        ax1.plot(X,Y, color = 'r', label = str(self.f))\n",
        "        ax1.legend(loc= 'best')\n",
        "        #plt.annotate('point',xy=(p,self.f.subs(x,p)), xytext =(0,0),arrowprops=dict(facecolor='black', shrink=0.005))\n",
        "        #plt.scatter(p,self.f.subs(x,p) , marker='^')\n",
        "        plt.show()\n",
        "    \n",
        "\n",
        "def main():\n",
        "\n",
        "    function = x**3 - 3* x + 2\n",
        "    function2 = 5*x**(1/2) -9*x +2\n",
        "    display(function)\n",
        "\n",
        "    objOpt = Opt1D(function)\n",
        "    \n",
        "    ##\n",
        "    x_min, x_max =objOpt.increSearch(0,8)\n",
        "    print('busqueda ingenua')\n",
        "    print('Mínimo encontrado:' + str(x_min) +' y máximo encontrado: '+ str(x_max) + '\\n')\n",
        "\n",
        "    ###\n",
        "    point = objOpt.newtonMethod(8)\n",
        "    print(\"Metodo newton\")\n",
        "    #display(point)\n",
        "    print(\"minimo de la funcion es %.18f\\n\"%point)\n",
        "    ###### print(\"El mínimo es %f en %d iteraciones\" % (x,n)) ######\n",
        "\n",
        "    ###\n",
        "    xMin, xMax =objOpt.goldenSearch(-1,8)\n",
        "    print('busqueda dorada')\n",
        "    print('Mínimo encontrado:' + str(xMin) +' y máximo encontrado: '+ str(xMax)+'\\n')\n",
        "\n",
        "\n",
        "    objOpt.graph1D(0,8,point)\n",
        "if __name__ == \"__main__\":\n",
        "    main()\n"
      ],
      "metadata": {
        "colab": {
          "base_uri": "https://localhost:8080/",
          "height": 462
        },
        "id": "khvi5rcVLfwD",
        "outputId": "d6611578-61f3-4c36-a947-67981f01ba82"
      },
      "execution_count": 31,
      "outputs": [
        {
          "output_type": "display_data",
          "data": {
            "text/plain": [
              " 3          \n",
              "x  - 3⋅x + 2"
            ],
            "text/latex": "$\\displaystyle x^{3} - 3 x + 2$"
          },
          "metadata": {}
        },
        {
          "output_type": "stream",
          "name": "stdout",
          "text": [
            "busqueda ingenua\n",
            "Mínimo encontrado:1.0001000100010002 y máximo encontrado: 8.0\n",
            "\n",
            "Metodo newton\n",
            "minimo de la funcion es 1.000000000000021316\n",
            "\n",
            "busqueda dorada\n",
            "Mínimo encontrado:-1 y máximo encontrado: 8\n",
            "\n"
          ]
        },
        {
          "output_type": "display_data",
          "data": {
            "text/plain": [
              "<Figure size 432x288 with 1 Axes>"
            ],
            "image/png": "[encoded data removed]"
          },
          "metadata": {
            "needs_background": "light"
          }
        }
      ]
    },
    {
      "cell_type": "markdown",
      "source": [
        "Optimizacion \n"
      ],
      "metadata": {
        "id": "momUQh5q__rJ"
      }
    },
    {
      "cell_type": "code",
      "source": [],
      "metadata": {
        "id": "w7yhhBoaACRY"
      },
      "execution_count": null,
      "outputs": []
    }
  ]
}